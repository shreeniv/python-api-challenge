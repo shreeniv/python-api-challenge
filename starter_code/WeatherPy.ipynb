{
 "cells": [
  {
   "cell_type": "markdown",
   "metadata": {},
   "source": [
    "# WeatherPy\n",
    "----\n",
    "\n",
    "#### Note\n",
    "* Instructions have been included for each segment. You do not have to follow them exactly, but they are included to help you think through the steps."
   ]
  },
  {
   "cell_type": "code",
   "execution_count": 22,
   "metadata": {
    "scrolled": true
   },
   "outputs": [],
   "source": [
    "# Dependencies and Setup\n",
    "import matplotlib.pyplot as plt\n",
    "import pandas as pd\n",
    "import numpy as np\n",
    "import requests\n",
    "import time\n",
    "from scipy.stats import linregress\n",
    "\n",
    "# Import API key\n",
    "from api_keys import weather_api_key\n",
    "\n",
    "# Incorporated citipy to determine city based on latitude and longitude\n",
    "from citipy import citipy\n",
    "\n",
    "# Output File (CSV)\n",
    "output_data_file = \"output_data/cities.csv\"\n",
    "\n",
    "# Range of latitudes and longitudes\n",
    "lat_range = (-90, 90)\n",
    "lng_range = (-180, 180)"
   ]
  },
  {
   "cell_type": "markdown",
   "metadata": {},
   "source": [
    "## Generate Cities List"
   ]
  },
  {
   "cell_type": "code",
   "execution_count": 23,
   "metadata": {},
   "outputs": [
    {
     "name": "stdout",
     "output_type": "stream",
     "text": [
      "Total cities are: 603\n"
     ]
    }
   ],
   "source": [
    "# List for holding lat_lngs and cities\n",
    "cities_country = []\n",
    "latitudes = []\n",
    "longitudes = []\n",
    "cities = []\n",
    "countries = []\n",
    "\n",
    "# Create a set of random lat and lng combinations\n",
    "lats = np.random.uniform(low=-90, high=90, size=1500)\n",
    "lngs = np.random.uniform(low=-180, high=180, size=1500)\n",
    "lat_lngs = zip(lats, lngs)\n",
    "\n",
    "# Identify nearest city for each lat, lng combination\n",
    "for lat_lng in lat_lngs:\n",
    "    city = citipy.nearest_city(lat_lng[0], lat_lng[1])\n",
    "    cityname = city.city_name\n",
    "    countryname = city.country_code\n",
    "    city_with_country = tuple([cityname, countryname.upper()])\n",
    "    if city_with_country not in cities_country:\n",
    "        cities_country.append(city_with_country)\n",
    "        cities.append(city_with_country[0])\n",
    "        countries.append(city_with_country[1])\n",
    "        latitudes.append(lat_lng[0])\n",
    "        longitudes.append(lat_lng[1])\n",
    "\n",
    "# Print the city count to confirm sufficient count    \n",
    "totalcities = len(cities_country)\n",
    "print(f\"Total cities are: {totalcities}\")"
   ]
  },
  {
   "cell_type": "markdown",
   "metadata": {},
   "source": [
    "## Perform API Calls\n",
    "* Perform a weather check on each city using a series of successive API calls.\n",
    "* Include a print log of each city as it'sbeing processed (with the city number and city name).\n"
   ]
  },
  {
   "cell_type": "code",
   "execution_count": 24,
   "metadata": {},
   "outputs": [
    {
     "data": {
      "text/html": [
       "<div>\n",
       "<style scoped>\n",
       "    .dataframe tbody tr th:only-of-type {\n",
       "        vertical-align: middle;\n",
       "    }\n",
       "\n",
       "    .dataframe tbody tr th {\n",
       "        vertical-align: top;\n",
       "    }\n",
       "\n",
       "    .dataframe thead th {\n",
       "        text-align: right;\n",
       "    }\n",
       "</style>\n",
       "<table border=\"1\" class=\"dataframe\">\n",
       "  <thead>\n",
       "    <tr style=\"text-align: right;\">\n",
       "      <th></th>\n",
       "      <th>City</th>\n",
       "      <th>Country</th>\n",
       "      <th>Latitude</th>\n",
       "      <th>Longitudes</th>\n",
       "      <th>Max_Temprature(F)</th>\n",
       "      <th>Humidity(%)</th>\n",
       "      <th>Windspeed(MPH)</th>\n",
       "      <th>Cloudiness(%)</th>\n",
       "      <th>Date</th>\n",
       "    </tr>\n",
       "  </thead>\n",
       "  <tbody>\n",
       "    <tr>\n",
       "      <th>0</th>\n",
       "      <td>katsuura</td>\n",
       "      <td>NaN</td>\n",
       "      <td>NaN</td>\n",
       "      <td>NaN</td>\n",
       "      <td>NaN</td>\n",
       "      <td>NaN</td>\n",
       "      <td>NaN</td>\n",
       "      <td>NaN</td>\n",
       "      <td>NaN</td>\n",
       "    </tr>\n",
       "    <tr>\n",
       "      <th>1</th>\n",
       "      <td>kodiak</td>\n",
       "      <td>NaN</td>\n",
       "      <td>NaN</td>\n",
       "      <td>NaN</td>\n",
       "      <td>NaN</td>\n",
       "      <td>NaN</td>\n",
       "      <td>NaN</td>\n",
       "      <td>NaN</td>\n",
       "      <td>NaN</td>\n",
       "    </tr>\n",
       "    <tr>\n",
       "      <th>2</th>\n",
       "      <td>punta arenas</td>\n",
       "      <td>NaN</td>\n",
       "      <td>NaN</td>\n",
       "      <td>NaN</td>\n",
       "      <td>NaN</td>\n",
       "      <td>NaN</td>\n",
       "      <td>NaN</td>\n",
       "      <td>NaN</td>\n",
       "      <td>NaN</td>\n",
       "    </tr>\n",
       "    <tr>\n",
       "      <th>3</th>\n",
       "      <td>grand river south east</td>\n",
       "      <td>NaN</td>\n",
       "      <td>NaN</td>\n",
       "      <td>NaN</td>\n",
       "      <td>NaN</td>\n",
       "      <td>NaN</td>\n",
       "      <td>NaN</td>\n",
       "      <td>NaN</td>\n",
       "      <td>NaN</td>\n",
       "    </tr>\n",
       "    <tr>\n",
       "      <th>4</th>\n",
       "      <td>hasaki</td>\n",
       "      <td>NaN</td>\n",
       "      <td>NaN</td>\n",
       "      <td>NaN</td>\n",
       "      <td>NaN</td>\n",
       "      <td>NaN</td>\n",
       "      <td>NaN</td>\n",
       "      <td>NaN</td>\n",
       "      <td>NaN</td>\n",
       "    </tr>\n",
       "  </tbody>\n",
       "</table>\n",
       "</div>"
      ],
      "text/plain": [
       "                     City  Country  Latitude  Longitudes  Max_Temprature(F)  \\\n",
       "0                katsuura      NaN       NaN         NaN                NaN   \n",
       "1                  kodiak      NaN       NaN         NaN                NaN   \n",
       "2            punta arenas      NaN       NaN         NaN                NaN   \n",
       "3  grand river south east      NaN       NaN         NaN                NaN   \n",
       "4                  hasaki      NaN       NaN         NaN                NaN   \n",
       "\n",
       "   Humidity(%)  Windspeed(MPH)  Cloudiness(%)  Date  \n",
       "0          NaN             NaN            NaN   NaN  \n",
       "1          NaN             NaN            NaN   NaN  \n",
       "2          NaN             NaN            NaN   NaN  \n",
       "3          NaN             NaN            NaN   NaN  \n",
       "4          NaN             NaN            NaN   NaN  "
      ]
     },
     "execution_count": 24,
     "metadata": {},
     "output_type": "execute_result"
    }
   ],
   "source": [
    "dict = {\"City\": cities, \"Country\": countries, \"Latitude\":latitudes, \"Longitudes\": longitudes}\n",
    "city_data = pd.DataFrame(dict)\n",
    "city_data\n",
    "city_data[\"Country\"]  = np.nan\n",
    "city_data[\"Latitude\"]  = np.nan\n",
    "city_data[\"Longitudes\"]  = np.nan\n",
    "city_data[\"Max_Temprature(F)\"]  = np.nan\n",
    "city_data[\"Humidity(%)\"]  = np.nan\n",
    "city_data[\"Windspeed(MPH)\"]  = np.nan\n",
    "city_data[\"Cloudiness(%)\"]  = np.nan\n",
    "city_data[\"Date\"] = np.nan\n",
    "city_data.head()"
   ]
  },
  {
   "cell_type": "code",
   "execution_count": 28,
   "metadata": {},
   "outputs": [
    {
     "name": "stdout",
     "output_type": "stream",
     "text": [
      "Processing 1 of 603: katsuura\n",
      "Processing 2 of 603: kodiak\n",
      "Processing 3 of 603: punta arenas\n",
      "City not found...skipping\n",
      "Processing 5 of 603: hasaki\n",
      "Processing 6 of 603: vaini\n",
      "Processing 7 of 603: cape town\n",
      "Processing 8 of 603: bethel\n",
      "Processing 9 of 603: hilo\n",
      "Processing 10 of 603: portree\n",
      "Processing 11 of 603: jamestown\n",
      "Processing 12 of 603: norman wells\n",
      "Processing 13 of 603: la ronge\n",
      "City not found...skipping\n",
      "Processing 15 of 603: puerto ayora\n",
      "Processing 16 of 603: lorengau\n",
      "Processing 17 of 603: vite\n",
      "Processing 18 of 603: sakakah\n",
      "Processing 19 of 603: goderich\n",
      "Processing 20 of 603: chililabombwe\n",
      "Processing 21 of 603: upernavik\n",
      "Processing 22 of 603: husavik\n",
      "Processing 23 of 603: codrington\n",
      "Processing 24 of 603: dunedin\n",
      "Processing 25 of 603: hermanus\n",
      "City not found...skipping\n",
      "Processing 27 of 603: albany\n",
      "Processing 28 of 603: nayudupeta\n",
      "Processing 29 of 603: kenai\n",
      "Processing 30 of 603: washington\n",
      "Processing 31 of 603: high level\n",
      "City not found...skipping\n",
      "Processing 33 of 603: kruisfontein\n",
      "Processing 34 of 603: rikitea\n",
      "Processing 35 of 603: miass\n",
      "Processing 36 of 603: bahia honda\n",
      "Processing 37 of 603: cidreira\n",
      "Processing 38 of 603: baherden\n",
      "Processing 39 of 603: saldanha\n",
      "Processing 40 of 603: chimbote\n",
      "Processing 41 of 603: chokurdakh\n",
      "Processing 42 of 603: dekar\n",
      "City not found...skipping\n",
      "City not found...skipping\n",
      "Processing 45 of 603: saint george\n",
      "Processing 46 of 603: ostrovnoy\n",
      "Processing 47 of 603: tanout\n",
      "Processing 48 of 603: tuktoyaktuk\n",
      "Processing 49 of 603: pevek\n",
      "Processing 50 of 603: ushuaia\n",
      "Processing 51 of 603: cuamba\n",
      "Processing 52 of 603: eydhafushi\n",
      "Processing 53 of 603: broome\n",
      "Processing 54 of 603: sibolga\n",
      "Processing 55 of 603: avarua\n",
      "Processing 56 of 603: katima mulilo\n",
      "Processing 57 of 603: yellowknife\n",
      "Processing 58 of 603: busselton\n",
      "Processing 59 of 603: talnakh\n",
      "Processing 60 of 603: deming\n",
      "Processing 61 of 603: turayf\n",
      "Processing 62 of 603: bredasdorp\n",
      "Processing 63 of 603: bluff\n",
      "Processing 64 of 603: aksarka\n",
      "City not found...skipping\n",
      "Processing 66 of 603: cherskiy\n",
      "Processing 67 of 603: bengkulu\n",
      "Processing 68 of 603: rabo de peixe\n",
      "Processing 69 of 603: deniliquin\n",
      "Processing 70 of 603: porangatu\n",
      "City not found...skipping\n",
      "City not found...skipping\n",
      "City not found...skipping\n",
      "Processing 74 of 603: flinders\n",
      "Processing 75 of 603: japura\n",
      "Processing 76 of 603: port elizabeth\n",
      "Processing 77 of 603: lavrentiya\n",
      "Processing 78 of 603: hudson bay\n",
      "Processing 79 of 603: maroantsetra\n",
      "Processing 80 of 603: qaanaaq\n",
      "City not found...skipping\n",
      "Processing 82 of 603: yuncheng\n",
      "Processing 83 of 603: kathu\n",
      "Processing 84 of 603: mahebourg\n",
      "Processing 85 of 603: port alfred\n",
      "Processing 86 of 603: tiksi\n",
      "Processing 87 of 603: carnarvon\n",
      "Processing 88 of 603: ploufragan\n",
      "Processing 89 of 603: paamiut\n",
      "Processing 90 of 603: rio gallegos\n",
      "Processing 91 of 603: toktogul\n",
      "Processing 92 of 603: tasiilaq\n",
      "Processing 93 of 603: sioux lookout\n",
      "Processing 94 of 603: ucluelet\n",
      "City not found...skipping\n",
      "Processing 96 of 603: georgetown\n",
      "Processing 97 of 603: carnarvon\n",
      "Processing 98 of 603: hearst\n",
      "Processing 99 of 603: atuona\n",
      "City not found...skipping\n"
     ]
    }
   ],
   "source": [
    "data = []\n",
    "counter = 0\n",
    "url = \"http://api.openweathermap.org/data/2.5/weather?\"\n",
    "units = \"metric\"\n",
    "\n",
    "# Build partial query URL\n",
    "query_url = f\"{url}appid={weather_api_key}&units={units}&q=\"\n",
    "# cities = [\"Paris\", \"London\", \"Oslo\", \"Beijing\"]\n",
    "\n",
    "# Loop through the list of cities and perform a request for data on each\n",
    "for city in cities[:100]:\n",
    "#for index, row in city_data.iterrows():\n",
    "    response = requests.get(query_url + city).json()\n",
    "    counter=counter+1\n",
    "        \n",
    "    try:\n",
    "        #print(response)\n",
    "        max_temp=response['main']['temp_max']\n",
    "       # print(temp)\n",
    "        country=response['sys']['country']\n",
    "        #print(country)\n",
    "        longitude=response['coord']['lon']\n",
    "        latitude=response['coord']['lat']\n",
    "        humidity=response['main']['humidity'] \n",
    "        wind_speed=response['wind']['speed']\n",
    "        cloudiness=response['clouds']['all']\n",
    "        date=response['dt']\n",
    "        data.append([city,country,latitude,longitude,max_temp,humidity,wind_speed,cloudiness,date])\n",
    "        print(f\"Processing {counter} of {totalcities}: {city}\")\n",
    "        time.sleep(.5)\n",
    "    except:\n",
    "        print('City not found...skipping')"
   ]
  },
  {
   "cell_type": "code",
   "execution_count": 31,
   "metadata": {},
   "outputs": [
    {
     "data": {
      "text/html": [
       "<div>\n",
       "<style scoped>\n",
       "    .dataframe tbody tr th:only-of-type {\n",
       "        vertical-align: middle;\n",
       "    }\n",
       "\n",
       "    .dataframe tbody tr th {\n",
       "        vertical-align: top;\n",
       "    }\n",
       "\n",
       "    .dataframe thead th {\n",
       "        text-align: right;\n",
       "    }\n",
       "</style>\n",
       "<table border=\"1\" class=\"dataframe\">\n",
       "  <thead>\n",
       "    <tr style=\"text-align: right;\">\n",
       "      <th></th>\n",
       "      <th>City</th>\n",
       "      <th>Country</th>\n",
       "      <th>Latitude</th>\n",
       "      <th>Longitude</th>\n",
       "      <th>Max_Temperature(F)</th>\n",
       "      <th>Humidity(%)</th>\n",
       "      <th>Windspeed(mph)</th>\n",
       "      <th>Cloudiness(%)</th>\n",
       "      <th>Date</th>\n",
       "    </tr>\n",
       "  </thead>\n",
       "  <tbody>\n",
       "    <tr>\n",
       "      <th>0</th>\n",
       "      <td>katsuura</td>\n",
       "      <td>JP</td>\n",
       "      <td>35.13</td>\n",
       "      <td>140.30</td>\n",
       "      <td>19.44</td>\n",
       "      <td>67</td>\n",
       "      <td>5.70</td>\n",
       "      <td>75</td>\n",
       "      <td>1603160961</td>\n",
       "    </tr>\n",
       "    <tr>\n",
       "      <th>1</th>\n",
       "      <td>kodiak</td>\n",
       "      <td>US</td>\n",
       "      <td>57.79</td>\n",
       "      <td>-152.41</td>\n",
       "      <td>8.00</td>\n",
       "      <td>49</td>\n",
       "      <td>4.10</td>\n",
       "      <td>1</td>\n",
       "      <td>1603160961</td>\n",
       "    </tr>\n",
       "    <tr>\n",
       "      <th>2</th>\n",
       "      <td>punta arenas</td>\n",
       "      <td>CL</td>\n",
       "      <td>-53.15</td>\n",
       "      <td>-70.92</td>\n",
       "      <td>4.00</td>\n",
       "      <td>80</td>\n",
       "      <td>9.30</td>\n",
       "      <td>20</td>\n",
       "      <td>1603161166</td>\n",
       "    </tr>\n",
       "    <tr>\n",
       "      <th>3</th>\n",
       "      <td>hasaki</td>\n",
       "      <td>JP</td>\n",
       "      <td>35.73</td>\n",
       "      <td>140.83</td>\n",
       "      <td>19.44</td>\n",
       "      <td>68</td>\n",
       "      <td>4.60</td>\n",
       "      <td>75</td>\n",
       "      <td>1603160962</td>\n",
       "    </tr>\n",
       "    <tr>\n",
       "      <th>4</th>\n",
       "      <td>vaini</td>\n",
       "      <td>TO</td>\n",
       "      <td>-21.20</td>\n",
       "      <td>-175.20</td>\n",
       "      <td>25.00</td>\n",
       "      <td>65</td>\n",
       "      <td>5.10</td>\n",
       "      <td>40</td>\n",
       "      <td>1603160963</td>\n",
       "    </tr>\n",
       "    <tr>\n",
       "      <th>...</th>\n",
       "      <td>...</td>\n",
       "      <td>...</td>\n",
       "      <td>...</td>\n",
       "      <td>...</td>\n",
       "      <td>...</td>\n",
       "      <td>...</td>\n",
       "      <td>...</td>\n",
       "      <td>...</td>\n",
       "      <td>...</td>\n",
       "    </tr>\n",
       "    <tr>\n",
       "      <th>82</th>\n",
       "      <td>ucluelet</td>\n",
       "      <td>CA</td>\n",
       "      <td>48.93</td>\n",
       "      <td>-125.55</td>\n",
       "      <td>12.00</td>\n",
       "      <td>81</td>\n",
       "      <td>5.10</td>\n",
       "      <td>20</td>\n",
       "      <td>1603161211</td>\n",
       "    </tr>\n",
       "    <tr>\n",
       "      <th>83</th>\n",
       "      <td>georgetown</td>\n",
       "      <td>MY</td>\n",
       "      <td>5.41</td>\n",
       "      <td>100.34</td>\n",
       "      <td>29.00</td>\n",
       "      <td>79</td>\n",
       "      <td>0.50</td>\n",
       "      <td>20</td>\n",
       "      <td>1603161211</td>\n",
       "    </tr>\n",
       "    <tr>\n",
       "      <th>84</th>\n",
       "      <td>carnarvon</td>\n",
       "      <td>AU</td>\n",
       "      <td>-24.87</td>\n",
       "      <td>113.63</td>\n",
       "      <td>23.00</td>\n",
       "      <td>64</td>\n",
       "      <td>7.70</td>\n",
       "      <td>40</td>\n",
       "      <td>1603161207</td>\n",
       "    </tr>\n",
       "    <tr>\n",
       "      <th>85</th>\n",
       "      <td>hearst</td>\n",
       "      <td>CA</td>\n",
       "      <td>49.68</td>\n",
       "      <td>-83.67</td>\n",
       "      <td>-3.50</td>\n",
       "      <td>97</td>\n",
       "      <td>1.82</td>\n",
       "      <td>28</td>\n",
       "      <td>1603161212</td>\n",
       "    </tr>\n",
       "    <tr>\n",
       "      <th>86</th>\n",
       "      <td>atuona</td>\n",
       "      <td>PF</td>\n",
       "      <td>-9.80</td>\n",
       "      <td>-139.03</td>\n",
       "      <td>25.94</td>\n",
       "      <td>73</td>\n",
       "      <td>8.22</td>\n",
       "      <td>1</td>\n",
       "      <td>1603160927</td>\n",
       "    </tr>\n",
       "  </tbody>\n",
       "</table>\n",
       "<p>87 rows × 9 columns</p>\n",
       "</div>"
      ],
      "text/plain": [
       "            City Country  Latitude  Longitude  Max_Temperature(F)  \\\n",
       "0       katsuura      JP     35.13     140.30               19.44   \n",
       "1         kodiak      US     57.79    -152.41                8.00   \n",
       "2   punta arenas      CL    -53.15     -70.92                4.00   \n",
       "3         hasaki      JP     35.73     140.83               19.44   \n",
       "4          vaini      TO    -21.20    -175.20               25.00   \n",
       "..           ...     ...       ...        ...                 ...   \n",
       "82      ucluelet      CA     48.93    -125.55               12.00   \n",
       "83    georgetown      MY      5.41     100.34               29.00   \n",
       "84     carnarvon      AU    -24.87     113.63               23.00   \n",
       "85        hearst      CA     49.68     -83.67               -3.50   \n",
       "86        atuona      PF     -9.80    -139.03               25.94   \n",
       "\n",
       "    Humidity(%)  Windspeed(mph)  Cloudiness(%)        Date  \n",
       "0            67            5.70             75  1603160961  \n",
       "1            49            4.10              1  1603160961  \n",
       "2            80            9.30             20  1603161166  \n",
       "3            68            4.60             75  1603160962  \n",
       "4            65            5.10             40  1603160963  \n",
       "..          ...             ...            ...         ...  \n",
       "82           81            5.10             20  1603161211  \n",
       "83           79            0.50             20  1603161211  \n",
       "84           64            7.70             40  1603161207  \n",
       "85           97            1.82             28  1603161212  \n",
       "86           73            8.22              1  1603160927  \n",
       "\n",
       "[87 rows x 9 columns]"
      ]
     },
     "execution_count": 31,
     "metadata": {},
     "output_type": "execute_result"
    }
   ],
   "source": [
    "city_df = pd.DataFrame(data,columns=[\"City\",\"Country\",\"Latitude\",\"Longitude\",\n",
    "                                     \"Max_Temperature(F)\",\"Humidity(%)\",\"Windspeed(mph)\",\"Cloudiness(%)\",\"Date\"])\n",
    "city_df"
   ]
  },
  {
   "cell_type": "markdown",
   "metadata": {},
   "source": [
    "## Convert Raw Data to DataFrame\n",
    "* Save as csv"
   ]
  },
  {
   "cell_type": "code",
   "execution_count": 32,
   "metadata": {},
   "outputs": [
    {
     "data": {
      "text/html": [
       "<div>\n",
       "<style scoped>\n",
       "    .dataframe tbody tr th:only-of-type {\n",
       "        vertical-align: middle;\n",
       "    }\n",
       "\n",
       "    .dataframe tbody tr th {\n",
       "        vertical-align: top;\n",
       "    }\n",
       "\n",
       "    .dataframe thead th {\n",
       "        text-align: right;\n",
       "    }\n",
       "</style>\n",
       "<table border=\"1\" class=\"dataframe\">\n",
       "  <thead>\n",
       "    <tr style=\"text-align: right;\">\n",
       "      <th></th>\n",
       "      <th>City</th>\n",
       "      <th>Country</th>\n",
       "      <th>Latitude</th>\n",
       "      <th>Longitude</th>\n",
       "      <th>Max_Temperature(F)</th>\n",
       "      <th>Humidity(%)</th>\n",
       "      <th>Windspeed(mph)</th>\n",
       "      <th>Cloudiness(%)</th>\n",
       "      <th>Date</th>\n",
       "    </tr>\n",
       "  </thead>\n",
       "  <tbody>\n",
       "    <tr>\n",
       "      <th>0</th>\n",
       "      <td>katsuura</td>\n",
       "      <td>JP</td>\n",
       "      <td>35.13</td>\n",
       "      <td>140.30</td>\n",
       "      <td>19.44</td>\n",
       "      <td>67</td>\n",
       "      <td>5.7</td>\n",
       "      <td>75</td>\n",
       "      <td>1603160961</td>\n",
       "    </tr>\n",
       "    <tr>\n",
       "      <th>1</th>\n",
       "      <td>kodiak</td>\n",
       "      <td>US</td>\n",
       "      <td>57.79</td>\n",
       "      <td>-152.41</td>\n",
       "      <td>8.00</td>\n",
       "      <td>49</td>\n",
       "      <td>4.1</td>\n",
       "      <td>1</td>\n",
       "      <td>1603160961</td>\n",
       "    </tr>\n",
       "    <tr>\n",
       "      <th>2</th>\n",
       "      <td>punta arenas</td>\n",
       "      <td>CL</td>\n",
       "      <td>-53.15</td>\n",
       "      <td>-70.92</td>\n",
       "      <td>4.00</td>\n",
       "      <td>80</td>\n",
       "      <td>9.3</td>\n",
       "      <td>20</td>\n",
       "      <td>1603161166</td>\n",
       "    </tr>\n",
       "    <tr>\n",
       "      <th>3</th>\n",
       "      <td>hasaki</td>\n",
       "      <td>JP</td>\n",
       "      <td>35.73</td>\n",
       "      <td>140.83</td>\n",
       "      <td>19.44</td>\n",
       "      <td>68</td>\n",
       "      <td>4.6</td>\n",
       "      <td>75</td>\n",
       "      <td>1603160962</td>\n",
       "    </tr>\n",
       "    <tr>\n",
       "      <th>4</th>\n",
       "      <td>vaini</td>\n",
       "      <td>TO</td>\n",
       "      <td>-21.20</td>\n",
       "      <td>-175.20</td>\n",
       "      <td>25.00</td>\n",
       "      <td>65</td>\n",
       "      <td>5.1</td>\n",
       "      <td>40</td>\n",
       "      <td>1603160963</td>\n",
       "    </tr>\n",
       "  </tbody>\n",
       "</table>\n",
       "</div>"
      ],
      "text/plain": [
       "           City Country  Latitude  Longitude  Max_Temperature(F)  Humidity(%)  \\\n",
       "0      katsuura      JP     35.13     140.30               19.44           67   \n",
       "1        kodiak      US     57.79    -152.41                8.00           49   \n",
       "2  punta arenas      CL    -53.15     -70.92                4.00           80   \n",
       "3        hasaki      JP     35.73     140.83               19.44           68   \n",
       "4         vaini      TO    -21.20    -175.20               25.00           65   \n",
       "\n",
       "   Windspeed(mph)  Cloudiness(%)        Date  \n",
       "0             5.7             75  1603160961  \n",
       "1             4.1              1  1603160961  \n",
       "2             9.3             20  1603161166  \n",
       "3             4.6             75  1603160962  \n",
       "4             5.1             40  1603160963  "
      ]
     },
     "execution_count": 32,
     "metadata": {},
     "output_type": "execute_result"
    }
   ],
   "source": [
    "# get the data into pandas dataframe\n",
    "#city_df.count()\n",
    "\n",
    "# save the data to csv file\n",
    "city_df.to_csv(\"../output_data/CityData.csv\", index=False, header=True)\n",
    "#file_one_df.to_csv(\"Output/fileOne.csv\", index=False, header=True)\n",
    "city_df.head()"
   ]
  },
  {
   "cell_type": "code",
   "execution_count": null,
   "metadata": {},
   "outputs": [],
   "source": [
    "\n"
   ]
  },
  {
   "cell_type": "markdown",
   "metadata": {},
   "source": [
    "## Plotting the Data\n",
    "* Use proper labeling of the plots using plot titles (including date of analysis) and axes labels.\n",
    "* Save the plotted figures as .pngs."
   ]
  },
  {
   "cell_type": "markdown",
   "metadata": {},
   "source": [
    "### Latitude vs. Temperature Plot"
   ]
  },
  {
   "cell_type": "code",
   "execution_count": 39,
   "metadata": {
    "scrolled": true
   },
   "outputs": [
    {
     "data": {
      "image/png": "[encoded data removed]",
      "text/plain": [
       "<Figure size 432x288 with 1 Axes>"
      ]
     },
     "metadata": {
      "needs_background": "light"
     },
     "output_type": "display_data"
    }
   ],
   "source": [
    "city_df.plot(kind=\"scatter\", x=\"Latitude\", y=\"Max_Temperature(F)\", xlim = (-62, 85), \n",
    "                     ylim= (-10, 40), s= 50, grid = True, edgecolor = \"black\", figsize=(6,4), \n",
    "                     title= f\"City Latitude Vs Max Temperature\")\n",
    "plt.savefig(\"../Images/LatitudeVsMaxTemp.png\")\n",
    "plt.show()\n",
    "# Temperature is highest near the equator; temperature decreases,0 as we go away from equator."
   ]
  },
  {
   "cell_type": "markdown",
   "metadata": {},
   "source": [
    "### Latitude vs. Humidity Plot"
   ]
  },
  {
   "cell_type": "code",
   "execution_count": 45,
   "metadata": {},
   "outputs": [
    {
     "data": {
      "image/png": "[encoded data removed]",
      "text/plain": [
       "<Figure size 432x288 with 1 Axes>"
      ]
     },
     "metadata": {
      "needs_background": "light"
     },
     "output_type": "display_data"
    }
   ],
   "source": [
    "city_df.plot(kind=\"scatter\", x=\"Latitude\", y=\"Humidity(%)\", xlim = (-70, 85), \n",
    "                     ylim= (0, 110), s= 50, grid = True, edgecolor = \"black\", figsize=(6,4), \n",
    "                     title= f\"City Latitude Vs Humidity\")\n",
    "plt.savefig(\"../Images/LatitudeVsHumidity.png\")\n",
    "plt.show()\n",
    "# Higher Humidity is observed towards the north of equator"
   ]
  },
  {
   "cell_type": "markdown",
   "metadata": {},
   "source": [
    "### Latitude vs. Cloudiness Plot"
   ]
  },
  {
   "cell_type": "code",
   "execution_count": 47,
   "metadata": {},
   "outputs": [
    {
     "data": {
      "image/png": "[encoded data removed]",
      "text/plain": [
       "<Figure size 432x288 with 1 Axes>"
      ]
     },
     "metadata": {
      "needs_background": "light"
     },
     "output_type": "display_data"
    }
   ],
   "source": [
    "city_df.plot(kind=\"scatter\", x=\"Latitude\", y=\"Cloudiness(%)\", xlim = (-70, 85), \n",
    "                     ylim= (-30, 110), s= 50, grid = True, edgecolor = \"black\", figsize=(6,4), \n",
    "                     title= f\"City Latitude Vs Cloudiness\")\n",
    "plt.savefig(\"../Images/LatitudeVsCloudiness.png\")\n",
    "plt.show()\n",
    "# Unable to draw any common inference between the latitudes and cloudiness"
   ]
  },
  {
   "cell_type": "markdown",
   "metadata": {},
   "source": [
    "### Latitude vs. Wind Speed Plot"
   ]
  },
  {
   "cell_type": "code",
   "execution_count": 52,
   "metadata": {},
   "outputs": [
    {
     "data": {
      "image/png": "[encoded data removed]",
      "text/plain": [
       "<Figure size 432x288 with 1 Axes>"
      ]
     },
     "metadata": {
      "needs_background": "light"
     },
     "output_type": "display_data"
    }
   ],
   "source": [
    "city_df.plot(kind=\"scatter\", x=\"Latitude\", y=\"Windspeed(mph)\", xlim = (-60, 90), \n",
    "                     ylim= (-2, 16), s= 50, grid = True, edgecolor = \"black\", figsize=(6,4), \n",
    "                     title= f\"City Latitude Vs Wind speed\")\n",
    "plt.savefig(\"../Images/LatitudeVsWindSpeed.png\")\n",
    "plt.show()\n",
    "# Wind speed is the lowest around the equator and increases as we progress towards the poles"
   ]
  },
  {
   "cell_type": "markdown",
   "metadata": {},
   "source": [
    "## Linear Regression"
   ]
  },
  {
   "cell_type": "markdown",
   "metadata": {},
   "source": [
    "### Write linear regression plot function (optional)"
   ]
  },
  {
   "cell_type": "code",
   "execution_count": 57,
   "metadata": {},
   "outputs": [],
   "source": [
    "# Create Northern and Southern Hemisphere DataFrames\n",
    "northern_hem = city_df.loc[city_df[\"Latitude\"] >= 0]\n",
    "northern_hem\n",
    "southern_hem = city_df.loc[city_df[\"Latitude\"] < 0]\n",
    "# Linear regression\n",
    "def linear_regression(x,y):\n",
    "    print(f\"The r-squared is : {round(st.pearsonr(x, y)[0],2)}\")\n",
    "    (slope, intercept, rvalue, pvalue, stderr) = linregress(x, y)\n",
    "    regress_values = x * slope + intercept\n",
    "    line_eq = \"y = \" + str(round(slope,2)) + \"x + \" + str(round(intercept,2))\n",
    "    plt.scatter(x, y)\n",
    "    plt.plot(x,regress_values,\"r-\")\n",
    "    return line_eq\n",
    "\n",
    "# Define a fuction for annotating\n",
    "def annotate(line_eq, a, b):\n",
    "    plt.annotate(line_eq,(a,b),fontsize=15,color=\"red\")\n",
    "plt.show()"
   ]
  },
  {
   "cell_type": "markdown",
   "metadata": {},
   "source": [
    "###  Northern Hemisphere - Max Temp vs. Latitude Linear Regression"
   ]
  },
  {
   "cell_type": "code",
   "execution_count": 56,
   "metadata": {},
   "outputs": [
    {
     "ename": "NameError",
     "evalue": "name 'st' is not defined",
     "output_type": "error",
     "traceback": [
      "\u001b[1;31m---------------------------------------------------------------------------\u001b[0m",
      "\u001b[1;31mNameError\u001b[0m                                 Traceback (most recent call last)",
      "\u001b[1;32m<ipython-input-56-eee96698ecce>\u001b[0m in \u001b[0;36m<module>\u001b[1;34m\u001b[0m\n\u001b[0;32m      1\u001b[0m \u001b[1;31m# Call an function #1\u001b[0m\u001b[1;33m\u001b[0m\u001b[1;33m\u001b[0m\u001b[1;33m\u001b[0m\u001b[0m\n\u001b[1;32m----> 2\u001b[1;33m \u001b[0mequation\u001b[0m \u001b[1;33m=\u001b[0m \u001b[0mlinear_regression\u001b[0m\u001b[1;33m(\u001b[0m\u001b[0mnorthern_hem\u001b[0m\u001b[1;33m[\u001b[0m\u001b[1;34m\"Latitude\"\u001b[0m\u001b[1;33m]\u001b[0m\u001b[1;33m,\u001b[0m \u001b[0mnorthern_hem\u001b[0m\u001b[1;33m[\u001b[0m\u001b[1;34m\"Max_Temperature(F)\"\u001b[0m\u001b[1;33m]\u001b[0m\u001b[1;33m)\u001b[0m\u001b[1;33m\u001b[0m\u001b[1;33m\u001b[0m\u001b[0m\n\u001b[0m\u001b[0;32m      3\u001b[0m \u001b[1;33m\u001b[0m\u001b[0m\n\u001b[0;32m      4\u001b[0m \u001b[1;31m# Call an function #2\u001b[0m\u001b[1;33m\u001b[0m\u001b[1;33m\u001b[0m\u001b[1;33m\u001b[0m\u001b[0m\n\u001b[0;32m      5\u001b[0m \u001b[0mannotate\u001b[0m\u001b[1;33m(\u001b[0m\u001b[0mequation\u001b[0m\u001b[1;33m,\u001b[0m \u001b[1;36m0\u001b[0m\u001b[1;33m,\u001b[0m \u001b[1;36m0\u001b[0m\u001b[1;33m)\u001b[0m\u001b[1;33m\u001b[0m\u001b[1;33m\u001b[0m\u001b[0m\n",
      "\u001b[1;32m<ipython-input-55-885531c19b8f>\u001b[0m in \u001b[0;36mlinear_regression\u001b[1;34m(x, y)\u001b[0m\n\u001b[0;32m      4\u001b[0m \u001b[1;31m# Linear regression\u001b[0m\u001b[1;33m\u001b[0m\u001b[1;33m\u001b[0m\u001b[1;33m\u001b[0m\u001b[0m\n\u001b[0;32m      5\u001b[0m \u001b[1;32mdef\u001b[0m \u001b[0mlinear_regression\u001b[0m\u001b[1;33m(\u001b[0m\u001b[0mx\u001b[0m\u001b[1;33m,\u001b[0m\u001b[0my\u001b[0m\u001b[1;33m)\u001b[0m\u001b[1;33m:\u001b[0m\u001b[1;33m\u001b[0m\u001b[1;33m\u001b[0m\u001b[0m\n\u001b[1;32m----> 6\u001b[1;33m     \u001b[0mprint\u001b[0m\u001b[1;33m(\u001b[0m\u001b[1;34mf\"The r-squared is : {round(st.pearsonr(x, y)[0],2)}\"\u001b[0m\u001b[1;33m)\u001b[0m\u001b[1;33m\u001b[0m\u001b[1;33m\u001b[0m\u001b[0m\n\u001b[0m\u001b[0;32m      7\u001b[0m     \u001b[1;33m(\u001b[0m\u001b[0mslope\u001b[0m\u001b[1;33m,\u001b[0m \u001b[0mintercept\u001b[0m\u001b[1;33m,\u001b[0m \u001b[0mrvalue\u001b[0m\u001b[1;33m,\u001b[0m \u001b[0mpvalue\u001b[0m\u001b[1;33m,\u001b[0m \u001b[0mstderr\u001b[0m\u001b[1;33m)\u001b[0m \u001b[1;33m=\u001b[0m \u001b[0mlinregress\u001b[0m\u001b[1;33m(\u001b[0m\u001b[0mx\u001b[0m\u001b[1;33m,\u001b[0m \u001b[0my\u001b[0m\u001b[1;33m)\u001b[0m\u001b[1;33m\u001b[0m\u001b[1;33m\u001b[0m\u001b[0m\n\u001b[0;32m      8\u001b[0m     \u001b[0mregress_values\u001b[0m \u001b[1;33m=\u001b[0m \u001b[0mx\u001b[0m \u001b[1;33m*\u001b[0m \u001b[0mslope\u001b[0m \u001b[1;33m+\u001b[0m \u001b[0mintercept\u001b[0m\u001b[1;33m\u001b[0m\u001b[1;33m\u001b[0m\u001b[0m\n",
      "\u001b[1;31mNameError\u001b[0m: name 'st' is not defined"
     ]
    }
   ],
   "source": [
    "# Call an function #1\n",
    "equation = linear_regression(northern_hem[\"Latitude\"], northern_hem[\"Max_Temperature(F)\"])\n",
    "\n",
    "# Call an function #2\n",
    "annotate(equation, 0, 0)\n",
    "\n",
    "# Set a title\n",
    "plt.title(\"Northern Hemisphere - Max Temp vs. Latitude Linear Regression\")\n",
    "\n",
    "# Set xlabel\n",
    "plt.xlabel(\"Latitude\")\n",
    "\n",
    "# Set ylabel\n",
    "plt.ylabel(\"Max_Temperature(F)\")\n",
    "\n",
    "# Save the figure\n",
    "plt.savefig(\"../Images/NorthernHem_MaxTemp_vs_Lat.png\")\n",
    "plt.show()\n",
    "#plt.savefig(\"../Images/Northern Hemisphere - Max Temp vs. Latitude Linear Regression.png\")"
   ]
  },
  {
   "cell_type": "markdown",
   "metadata": {},
   "source": [
    "###  Southern Hemisphere - Max Temp vs. Latitude Linear Regression"
   ]
  },
  {
   "cell_type": "code",
   "execution_count": null,
   "metadata": {},
   "outputs": [],
   "source": []
  },
  {
   "cell_type": "markdown",
   "metadata": {},
   "source": [
    "###  Northern Hemisphere - Humidity (%) vs. Latitude Linear Regression"
   ]
  },
  {
   "cell_type": "code",
   "execution_count": null,
   "metadata": {},
   "outputs": [],
   "source": []
  },
  {
   "cell_type": "markdown",
   "metadata": {},
   "source": [
    "###  Southern Hemisphere - Humidity (%) vs. Latitude Linear Regression"
   ]
  },
  {
   "cell_type": "code",
   "execution_count": null,
   "metadata": {},
   "outputs": [],
   "source": []
  },
  {
   "cell_type": "markdown",
   "metadata": {},
   "source": [
    "###  Northern Hemisphere - Cloudiness (%) vs. Latitude Linear Regression"
   ]
  },
  {
   "cell_type": "code",
   "execution_count": null,
   "metadata": {},
   "outputs": [],
   "source": []
  },
  {
   "cell_type": "markdown",
   "metadata": {},
   "source": [
    "###  Southern Hemisphere - Cloudiness (%) vs. Latitude Linear Regression"
   ]
  },
  {
   "cell_type": "code",
   "execution_count": null,
   "metadata": {},
   "outputs": [],
   "source": []
  },
  {
   "cell_type": "markdown",
   "metadata": {},
   "source": [
    "###  Northern Hemisphere - Wind Speed (mph) vs. Latitude Linear Regression"
   ]
  },
  {
   "cell_type": "code",
   "execution_count": null,
   "metadata": {},
   "outputs": [],
   "source": []
  },
  {
   "cell_type": "markdown",
   "metadata": {},
   "source": [
    "###  Southern Hemisphere - Wind Speed (mph) vs. Latitude Linear Regression"
   ]
  },
  {
   "cell_type": "code",
   "execution_count": null,
   "metadata": {},
   "outputs": [],
   "source": []
  },
  {
   "cell_type": "code",
   "execution_count": null,
   "metadata": {},
   "outputs": [],
   "source": []
  }
 ],
 "metadata": {
  "anaconda-cloud": {},
  "kernel_info": {
   "name": "python3"
  },
  "kernelspec": {
   "display_name": "Python 3",
   "language": "python",
   "name": "python3"
  },
  "language_info": {
   "codemirror_mode": {
    "name": "ipython",
    "version": 3
   },
   "file_extension": ".py",
   "mimetype": "text/x-python",
   "name": "python",
   "nbconvert_exporter": "python",
   "pygments_lexer": "ipython3",
   "version": "3.8.3"
  },
  "latex_envs": {
   "LaTeX_envs_menu_present": true,
   "autoclose": false,
   "autocomplete": true,
   "bibliofile": "biblio.bib",
   "cite_by": "apalike",
   "current_citInitial": 1,
   "eqLabelWithNumbers": true,
   "eqNumInitial": 1,
   "hotkeys": {
    "equation": "Ctrl-E",
    "itemize": "Ctrl-I"
   },
   "labels_anchors": false,
   "latex_user_defs": false,
   "report_style_numbering": false,
   "user_envs_cfg": false
  },
  "nteract": {
   "version": "0.12.3"
  },
  "toc": {
   "base_numbering": 1,
   "nav_menu": {},
   "number_sections": true,
   "sideBar": true,
   "skip_h1_title": false,
   "title_cell": "Table of Contents",
   "title_sidebar": "Contents",
   "toc_cell": false,
   "toc_position": {},
   "toc_section_display": true,
   "toc_window_display": false
  },
  "varInspector": {
   "cols": {
    "lenName": 16,
    "lenType": 16,
    "lenVar": 40
   },
   "kernels_config": {
    "python": {
     "delete_cmd_postfix": "",
     "delete_cmd_prefix": "del ",
     "library": "var_list.py",
     "varRefreshCmd": "print(var_dic_list())"
    },
    "r": {
     "delete_cmd_postfix": ") ",
     "delete_cmd_prefix": "rm(",
     "library": "var_list.r",
     "varRefreshCmd": "cat(var_dic_list()) "
    }
   },
   "types_to_exclude": [
    "module",
    "function",
    "builtin_function_or_method",
    "instance",
    "_Feature"
   ],
   "window_display": false
  }
 },
 "nbformat": 4,
 "nbformat_minor": 2
}
